{
 "cells": [
  {
   "cell_type": "code",
   "execution_count": 1,
   "metadata": {},
   "outputs": [],
   "source": [
    "import random\n",
    "import numpy as np\n",
    "\n",
    "import sys\n",
    "from typing import Tuple\n",
    "# long type, 32bit OS 4B, 64bit OS 8B (1bit for sign)\n",
    "sys.setrecursionlimit(1000000)\n",
    "\n",
    "def egcd(a: int, b: int) -> Tuple[int, int, int]:\n",
    "    \"\"\"return (g, x, y) such that a*x + b*y = g = gcd(a, b)\"\"\"\n",
    "    if a == 0:\n",
    "        return (b, 0, 1)\n",
    "    else:\n",
    "        b_div_a, b_mod_a = divmod(b, a)\n",
    "        g, x, y = egcd(b_mod_a, a)\n",
    "        return (g, y - b_div_a * x, x)\n",
    "\n",
    "def gcd(a,b):\n",
    "    while b:\n",
    "        a, b = b , a % b\n",
    "    return a\n",
    "\n",
    "def calc_e(phi):\n",
    "    e = 1\n",
    "    while True:\n",
    "        if e >= phi:\n",
    "            raise ValueError(\"e >= phi\")\n",
    "        if e < phi and e > 1 and gcd(e,phi) == 1:\n",
    "            return e\n",
    "        e += 1\n",
    "\n",
    "def calc_d(e,phi):\n",
    "    g, x, y = egcd(e, phi)\n",
    "    if x < 0:\n",
    "        x += phi\n",
    "    return x\n",
    "\n",
    "def encrypt_rsa(m, n, e):\n",
    "    return (m ** e) % n\n",
    "\n",
    "def decrypt_rsa(m, n, d):\n",
    "    return (m ** d) % n\n",
    "\n",
    "def deThenEcnrypt(m,n,d,e):\n",
    "    encrypted = encrypt_rsa(m, n, e)\n",
    "    decrypted = decrypt_rsa(encrypted, n, d)\n",
    "    print(f\"Message: {m} Encrypted: {encrypted}; Decrypted: {decrypted}\")\n",
    "\n",
    "#Indlæs de første tusinde primtal til listen plist\n",
    "plist = np.genfromtxt('primtal.txt', delimiter=',')\n"
   ]
  },
  {
   "cell_type": "code",
   "execution_count": null,
   "metadata": {},
   "outputs": [
    {
     "name": "stdout",
     "output_type": "stream",
     "text": [
      "Vi finder primtallene p og q hvår p != q og p > q\n",
      "p = 613; q = 557\n",
      "n = 341441 = p * q\n",
      "phi = 340272\n",
      " e = 5\n",
      "d = 136109\n",
      "Message: 420 Encrypted: 126507; Decrypted: 420\n"
     ]
    }
   ],
   "source": [
    "print(\"Vi finder primtallene p og q hvår p != q og p > q\")\n",
    "pIndex = random.randrange(100, 500)\n",
    "p = int(plist[pIndex])\n",
    "q = int(plist[random.randrange(100, 500)])\n",
    "while p == q or p < q:\n",
    "    q = int(plist[random.randrange(100, pIndex)])\n",
    "print(f\"p = {p}; q = {q}\")\n",
    "\n",
    "n = p * q\n",
    "print(f\"n = {n} = p * q\")\n",
    "\n",
    "phi = (p-1)*(q-1)\n",
    "print(f\"phi = {phi}\")\n",
    "\n",
    "e = calc_e(phi)\n",
    "print(f\" e = {e}\")\n",
    "\n",
    "d = calc_d(e, phi)\n",
    "print(f\"d = {d}\")\n",
    "\n",
    "message = 30\n",
    "\n",
    "encrypted = encrypt_rsa(message,n,e) \n",
    "decrypted = decrypt_rsa(encrypted, n, d)\n",
    "print(f\"Message: {message} Encrypted: {encrypted}; Decrypted: {decrypted}\")\n"
   ]
  },
  {
   "cell_type": "code",
   "execution_count": 44,
   "metadata": {},
   "outputs": [
    {
     "name": "stdout",
     "output_type": "stream",
     "text": [
      "Vi finder primtallene p og q hvår p != q og p > q\n",
      "p = 947; q = 857\n",
      "n = 811579 = p * q\n",
      "phi = 809776\n",
      " e = 3\n",
      "d = 539851\n"
     ]
    }
   ],
   "source": [
    "#RSA Keygen\n",
    "\n",
    "#Indlæs de første tusinde primtal til listen plist\n",
    "plist = np.genfromtxt('primtal.txt', delimiter=',')\n",
    "\n",
    "print(\"Vi finder primtallene p og q hvår p != q og p > q\")\n",
    "\n",
    "p = int(plist[random.randrange(100, 500)])\n",
    "q = int(plist[random.randrange(100, 500)])\n",
    "while p == q or p < q:\n",
    "    q = int(plist[random.randrange(100, 500)])\n",
    "print(f\"p = {p}; q = {q}\")\n",
    "\n",
    "n = p * q\n",
    "print(f\"n = {n} = p * q\")\n",
    "\n",
    "phi = (p-1)*(q-1)\n",
    "print(f\"phi = {phi}\")\n",
    "\n",
    "e = calc_e(phi)\n",
    "print(f\" e = {e}\")\n",
    "\n",
    "d = calc_d(e, phi)\n",
    "print(f\"d = {d}\")\n"
   ]
  },
  {
   "cell_type": "code",
   "execution_count": 6,
   "metadata": {},
   "outputs": [
    {
     "name": "stdout",
     "output_type": "stream",
     "text": [
      "Message: 123 Encrypted: 326602; Decrypted: 123\n"
     ]
    }
   ],
   "source": [
    "# Kryptering og derefter dekryptering med RSA\n",
    "\n",
    "n = 346777\n",
    "e = 7\n",
    "d = 98743\n",
    "\n",
    "m = 123\n",
    "\n",
    "encrypted = encrypt_rsa(m, n, e)\n",
    "decrypted = decrypt_rsa(encrypted, n, d)\n",
    "print(f\"Message: {m} Encrypted: {encrypted}; Decrypted: {decrypted}\")"
   ]
  },
  {
   "cell_type": "code",
   "execution_count": 7,
   "metadata": {},
   "outputs": [],
   "source": [
    "n = 346777\n",
    "e = 7\n",
    "d = 98743\n",
    "\n",
    "m = 2\n",
    "while m < 200:\n",
    "    encrypted = encrypt_rsa(m, n, e)\n",
    "    decrypted = decrypt_rsa(encrypted, n, d)\n",
    "    if decrypted != m:\n",
    "        print(\"Decrypted != m\")\n",
    "    m += 1\n"
   ]
  },
  {
   "cell_type": "code",
   "execution_count": null,
   "metadata": {},
   "outputs": [],
   "source": [
    "#Kryptering med høje tal.\n",
    "print(\"Vi finder primtallene p og q hvår p != q og p > q\")\n",
    "p = int(plist[950])\n",
    "q = int(plist[923])\n",
    "\n",
    "print(f\"p = {p}; q = {q}\")\n",
    "\n",
    "n = p * q\n",
    "print(f\"n = {n} = p * q\")\n",
    "\n",
    "phi = (p-1)*(q-1)\n",
    "print(f\"phi = {phi}\")\n",
    "\n",
    "e = calc_e(phi)\n",
    "print(f\" e = {e}\")\n",
    "\n",
    "d = calc_d(e, phi)\n",
    "print(f\"d = {d}\")\n",
    "\n",
    "deThenEcnrypt(123, n, d, e)\n"
   ]
  },
  {
   "cell_type": "code",
   "execution_count": 2,
   "metadata": {},
   "outputs": [],
   "source": [
    "# Stor potens operation\n",
    "_p1 = pow(123456,1234567)"
   ]
  },
  {
   "cell_type": "code",
   "execution_count": 3,
   "metadata": {},
   "outputs": [],
   "source": [
    "# Lille potensoperation\n",
    "_p2 = pow(1234567, 123)"
   ]
  },
  {
   "cell_type": "code",
   "execution_count": null,
   "metadata": {},
   "outputs": [],
   "source": []
  }
 ],
 "metadata": {
  "interpreter": {
   "hash": "57cd5fb1e3b7204affcad99e357835e97af72bcbe047212f9dec890e70acee09"
  },
  "kernelspec": {
   "display_name": "Python 3.8.8 64-bit ('base': conda)",
   "language": "python",
   "name": "python3"
  },
  "language_info": {
   "codemirror_mode": {
    "name": "ipython",
    "version": 3
   },
   "file_extension": ".py",
   "mimetype": "text/x-python",
   "name": "python",
   "nbconvert_exporter": "python",
   "pygments_lexer": "ipython3",
   "version": "3.8.8"
  },
  "orig_nbformat": 4
 },
 "nbformat": 4,
 "nbformat_minor": 2
}
